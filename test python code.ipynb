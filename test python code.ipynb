{
 "metadata": {
  "name": "test python code"
 },
 "nbformat": 3,
 "nbformat_minor": 0,
 "worksheets": [
  {
   "cells": [
    {
     "cell_type": "code",
     "collapsed": false,
     "input": [
      "import pandas as pd\n",
      "from Bio import SeqIO\n",
      "from cogent.parse.ncbi_taxonomy import NcbiTaxonomyFromFiles"
     ],
     "language": "python",
     "metadata": {},
     "outputs": [],
     "prompt_number": 1
    },
    {
     "cell_type": "code",
     "collapsed": false,
     "input": [
      "class FileWrapper(file):\n",
      "    def __init__(self, comment_literal, *args):\n",
      "        super(FileWrapper, self).__init__(*args)\n",
      "        self._comment_literal = comment_literal\n",
      "\n",
      "    def next(self):\n",
      "        while True:\n",
      "            line = super(FileWrapper, self).next()\n",
      "            if not line.startswith(self._comment_literal):\n",
      "                return line\n",
      "            \n",
      "def get_lineage(node,value = 'name'):\n",
      "    \"\"\"returns lineage information in my_ranks order\"\"\"\n",
      "    curr = node\n",
      "    if value == 'name':\n",
      "        lineage = [curr.Name]\n",
      "    else:\n",
      "        lineage = [curr.TaxonId]\n",
      "    while curr.Parent is not None:\n",
      "        curr = curr.Parent\n",
      "        if value == 'name':\n",
      "            lineage.append(curr.Name)\n",
      "        else:\n",
      "            lineage.append(curr.TaxonId)\n",
      "        parent = tree.ById[curr.ParentId]\n",
      "    return lineage\n",
      "\n",
      "def get_lca(lineage1,lineage2):\n",
      "    for i in range(1,len(lineage1)):\n",
      "        if lineage1[-i] != lineage2[-i]:\n",
      "            lca = lineage1[-(i - 1)]\n",
      "            break\n",
      "    return lca \n",
      "\n",
      "def get_lca_for_list(coming_in):\n",
      "    back = {}\n",
      "    ref_node = tree.ById[9606]\n",
      "    ref_lineage  = get_lineage(ref_node,'id')\n",
      "    for number in coming_in:\n",
      "        if np.isnan(number):\n",
      "            continue\n",
      "        else:\n",
      "            sbj_node = tree.ById[number]\n",
      "            sbj_node_lineage = get_lineage(sbj_node,'id')\n",
      "            qry_sbj_lca_id = get_lca(ref_lineage,sbj_node_lineage)\n",
      "            qry_sbj_lca_node = tree.ById[qry_sbj_lca_id]\n",
      "            #print q_node.Name,\" :: \", sbj_node.Name, \" => \", qry_sbj_lca_node.Name,\" <=\\n\",sbj_node_lineage,\"\\n\",ref_lineage\n",
      "            back[number] = [sbj_node.Name, number, qry_sbj_lca_node.Name, qry_sbj_lca_id]\n",
      "    back = pd.DataFrame(back.values(), columns=['subject_name','subject_taxid','lca_name','lca_tax_id'])\n",
      "    return back\n",
      "        "
     ],
     "language": "python",
     "metadata": {},
     "outputs": [],
     "prompt_number": 2
    },
    {
     "cell_type": "code",
     "collapsed": false,
     "input": [
      "## Read blast output results\n",
      "# Define the columns names\n",
      "colnames = ['query_id', 'subject_id', 'identity', 'alignment_length', 'query_length', 'subject_length', 'mismatches', 'gap_opens', 'q_start', 'q_end', 's_start', 's_end', 'evalue', 'bit_score']\n",
      "# read blast output skipping commented lines\n",
      "table = pd.read_table(FileWrapper(\"#\", \"example/dysbindin.blast_out.txt\", \"r\"), delimiter=\"\\t\", header=None, names = colnames)\n"
     ],
     "language": "python",
     "metadata": {},
     "outputs": [],
     "prompt_number": 3
    },
    {
     "cell_type": "code",
     "collapsed": false,
     "input": [
      "# Read sequences used for the analyses\n",
      "sequence_length = {}\n",
      "handle = open(\"example/dysbindin.fa\", \"rU\")\n",
      "for record in SeqIO.parse(handle, \"fasta\") :\n",
      "    sequence_length[record.id] = len(record.seq) \n",
      "handle.close()\n"
     ],
     "language": "python",
     "metadata": {},
     "outputs": [],
     "prompt_number": 4
    },
    {
     "cell_type": "code",
     "collapsed": false,
     "input": [
      "# reduce the blast output only to the sequences present on the fasta file\n",
      "table = table[table['query_id'].isin(sequence_length.keys()) ]"
     ],
     "language": "python",
     "metadata": {},
     "outputs": [],
     "prompt_number": 5
    },
    {
     "cell_type": "code",
     "collapsed": false,
     "input": [
      "print \"Reading NBCI Taxonomy files\"\n",
      "tree = NcbiTaxonomyFromFiles(open('/Users/inti/Installed_Apps/biosql/scripts/taxdata/nodes.dmp'), open('/Users/inti/Installed_Apps/biosql/scripts/taxdata/names.dmp'))\n",
      "root = tree.Root"
     ],
     "language": "python",
     "metadata": {},
     "outputs": [
      {
       "output_type": "stream",
       "stream": "stdout",
       "text": [
        "Reading NBCI Taxonomy files\n"
       ]
      }
     ],
     "prompt_number": 6
    },
    {
     "cell_type": "code",
     "collapsed": false,
     "input": [
      "#node1 = tree.ById[9606] # some taxon id...\n",
      "#node2 = tree.ById[4932] # some taxon id...\n",
      "\n",
      "#node1_lineage  = get_lineage(node1,'id')\n",
      "#node2_lineage  = get_lineage(node2,'id')\n",
      "\n",
      "#lca = get_lca(get_lineage(node2,'id'),get_lineage(node1,'id'))  \n",
      "#lca_node = tree.ById[lca]\n",
      "\n"
     ],
     "language": "python",
     "metadata": {},
     "outputs": [],
     "prompt_number": 9
    },
    {
     "cell_type": "code",
     "collapsed": false,
     "input": [
      "table['subject_gi'] = table['subject_id'].str.split('|').apply(lambda x: x[1])\n",
      "#table['subject_gi'][0] = 6\n",
      "#table['subject_gi'][1] = 8"
     ],
     "language": "python",
     "metadata": {},
     "outputs": [],
     "prompt_number": 10
    },
    {
     "cell_type": "code",
     "collapsed": false,
     "input": [
      "# Need to read the seq id to tax id mapping files\n",
      "#tp = pd.read_table('gi_taxid_prot.dmp.gz', chunksize=10000,compression=\"gzip\",header=None,sep=\"\\t\",names=['gi','taxid'])\n",
      "tp = pd.read_table('gi_taxid_prot.dmp', chunksize=10000,header=None,sep=\"\\t\",names=['gi','taxid'])\n",
      "#!./make_small_file.sh \n",
      "#gimap = pd.read_table('head.txt.gz',header=None,sep=\"\\t\", compression=\"gzip\", names=['gi','taxid'])"
     ],
     "language": "python",
     "metadata": {},
     "outputs": [],
     "prompt_number": 14
    },
    {
     "cell_type": "code",
     "collapsed": false,
     "input": [
      "gimap = pd.concat([pd.merge(table,chunk,left_on='subject_gi', right_on='gi',how=\"inner\") for chunk in tp], ignore_index=True)"
     ],
     "language": "python",
     "metadata": {},
     "outputs": [],
     "prompt_number": "*"
    },
    {
     "cell_type": "code",
     "collapsed": false,
     "input": [
      "pd.merge(table,tp.read(10000),left_on='subject_gi', right_on='gi',how=\"inner\")"
     ],
     "language": "python",
     "metadata": {},
     "outputs": [
      {
       "ename": "StopIteration",
       "evalue": "",
       "output_type": "pyerr",
       "traceback": [
        "\u001b[0;31m---------------------------------------------------------------------------\u001b[0m\n\u001b[0;31mStopIteration\u001b[0m                             Traceback (most recent call last)",
        "\u001b[0;32m<ipython-input-17-ed8985393009>\u001b[0m in \u001b[0;36m<module>\u001b[0;34m()\u001b[0m\n\u001b[0;32m----> 1\u001b[0;31m \u001b[0mpd\u001b[0m\u001b[0;34m.\u001b[0m\u001b[0mmerge\u001b[0m\u001b[0;34m(\u001b[0m\u001b[0mtable\u001b[0m\u001b[0;34m,\u001b[0m\u001b[0mtp\u001b[0m\u001b[0;34m.\u001b[0m\u001b[0mread\u001b[0m\u001b[0;34m(\u001b[0m\u001b[0;36m10000\u001b[0m\u001b[0;34m)\u001b[0m\u001b[0;34m,\u001b[0m\u001b[0mleft_on\u001b[0m\u001b[0;34m=\u001b[0m\u001b[0;34m'subject_gi'\u001b[0m\u001b[0;34m,\u001b[0m \u001b[0mright_on\u001b[0m\u001b[0;34m=\u001b[0m\u001b[0;34m'gi'\u001b[0m\u001b[0;34m,\u001b[0m\u001b[0mhow\u001b[0m\u001b[0;34m=\u001b[0m\u001b[0;34m\"inner\"\u001b[0m\u001b[0;34m)\u001b[0m\u001b[0;34m\u001b[0m\u001b[0m\n\u001b[0m",
        "\u001b[0;32m/sw2/lib/python2.7/site-packages/pandas/io/parsers.pyc\u001b[0m in \u001b[0;36mread\u001b[0;34m(self, nrows)\u001b[0m\n\u001b[1;32m    629\u001b[0m             \u001b[0;31m#     self._engine.set_error_bad_lines(False)\u001b[0m\u001b[0;34m\u001b[0m\u001b[0;34m\u001b[0m\u001b[0m\n\u001b[1;32m    630\u001b[0m \u001b[0;34m\u001b[0m\u001b[0m\n\u001b[0;32m--> 631\u001b[0;31m         \u001b[0mret\u001b[0m \u001b[0;34m=\u001b[0m \u001b[0mself\u001b[0m\u001b[0;34m.\u001b[0m\u001b[0m_engine\u001b[0m\u001b[0;34m.\u001b[0m\u001b[0mread\u001b[0m\u001b[0;34m(\u001b[0m\u001b[0mnrows\u001b[0m\u001b[0;34m)\u001b[0m\u001b[0;34m\u001b[0m\u001b[0m\n\u001b[0m\u001b[1;32m    632\u001b[0m \u001b[0;34m\u001b[0m\u001b[0m\n\u001b[1;32m    633\u001b[0m         \u001b[0;32mif\u001b[0m \u001b[0mself\u001b[0m\u001b[0;34m.\u001b[0m\u001b[0moptions\u001b[0m\u001b[0;34m.\u001b[0m\u001b[0mget\u001b[0m\u001b[0;34m(\u001b[0m\u001b[0;34m'as_recarray'\u001b[0m\u001b[0;34m)\u001b[0m\u001b[0;34m:\u001b[0m\u001b[0;34m\u001b[0m\u001b[0m\n",
        "\u001b[0;32m/sw2/lib/python2.7/site-packages/pandas/io/parsers.pyc\u001b[0m in \u001b[0;36mread\u001b[0;34m(self, nrows)\u001b[0m\n\u001b[1;32m    952\u001b[0m \u001b[0;34m\u001b[0m\u001b[0m\n\u001b[1;32m    953\u001b[0m         \u001b[0;32mtry\u001b[0m\u001b[0;34m:\u001b[0m\u001b[0;34m\u001b[0m\u001b[0m\n\u001b[0;32m--> 954\u001b[0;31m             \u001b[0mdata\u001b[0m \u001b[0;34m=\u001b[0m \u001b[0mself\u001b[0m\u001b[0;34m.\u001b[0m\u001b[0m_reader\u001b[0m\u001b[0;34m.\u001b[0m\u001b[0mread\u001b[0m\u001b[0;34m(\u001b[0m\u001b[0mnrows\u001b[0m\u001b[0;34m)\u001b[0m\u001b[0;34m\u001b[0m\u001b[0m\n\u001b[0m\u001b[1;32m    955\u001b[0m         \u001b[0;32mexcept\u001b[0m \u001b[0mStopIteration\u001b[0m\u001b[0;34m:\u001b[0m\u001b[0;34m\u001b[0m\u001b[0m\n\u001b[1;32m    956\u001b[0m             \u001b[0;32mif\u001b[0m \u001b[0mnrows\u001b[0m \u001b[0;32mis\u001b[0m \u001b[0mNone\u001b[0m\u001b[0;34m:\u001b[0m\u001b[0;34m\u001b[0m\u001b[0m\n",
        "\u001b[0;32m/sw2/lib/python2.7/site-packages/pandas/_parser.so\u001b[0m in \u001b[0;36mpandas._parser.TextReader.read (pandas/src/parser.c:5925)\u001b[0;34m()\u001b[0m\n",
        "\u001b[0;32m/sw2/lib/python2.7/site-packages/pandas/_parser.so\u001b[0m in \u001b[0;36mpandas._parser.TextReader._read_low_memory (pandas/src/parser.c:6491)\u001b[0;34m()\u001b[0m\n",
        "\u001b[0;31mStopIteration\u001b[0m: "
       ]
      }
     ],
     "prompt_number": 17
    },
    {
     "cell_type": "code",
     "collapsed": false,
     "input": [
      "table[:5]"
     ],
     "language": "python",
     "metadata": {},
     "outputs": [
      {
       "html": [
        "<div style=\"max-height:1000px;max-width:1500px;overflow:auto;\">\n",
        "<table border=\"1\" class=\"dataframe\">\n",
        "  <thead>\n",
        "    <tr style=\"text-align: right;\">\n",
        "      <th></th>\n",
        "      <th>query_id</th>\n",
        "      <th>subject_id</th>\n",
        "      <th>identity</th>\n",
        "      <th>alignment_length</th>\n",
        "      <th>query_length</th>\n",
        "      <th>subject_length</th>\n",
        "      <th>mismatches</th>\n",
        "      <th>gap_opens</th>\n",
        "      <th>q_start</th>\n",
        "      <th>q_end</th>\n",
        "      <th>s_start</th>\n",
        "      <th>s_end</th>\n",
        "      <th>evalue</th>\n",
        "      <th>bit_score</th>\n",
        "      <th>subject_gi</th>\n",
        "    </tr>\n",
        "  </thead>\n",
        "  <tbody>\n",
        "    <tr>\n",
        "      <th>0</th>\n",
        "      <td> gi|17834109|gb|AAL46636.1|AF394226_1</td>\n",
        "      <td>     gi|19549327|ref|NP_115498.2|</td>\n",
        "      <td> 100.00</td>\n",
        "      <td> 351</td>\n",
        "      <td> 351</td>\n",
        "      <td> 351</td>\n",
        "      <td> 0</td>\n",
        "      <td> 0</td>\n",
        "      <td>  1</td>\n",
        "      <td> 351</td>\n",
        "      <td>   1</td>\n",
        "      <td> 351</td>\n",
        "      <td> 0</td>\n",
        "      <td> 719</td>\n",
        "      <td>  19549327</td>\n",
        "    </tr>\n",
        "    <tr>\n",
        "      <th>1</th>\n",
        "      <td> gi|17834109|gb|AAL46636.1|AF394226_1</td>\n",
        "      <td>      gi|119575767|gb|EAW55363.1|</td>\n",
        "      <td>  98.86</td>\n",
        "      <td> 351</td>\n",
        "      <td> 351</td>\n",
        "      <td> 348</td>\n",
        "      <td> 1</td>\n",
        "      <td> 1</td>\n",
        "      <td>  1</td>\n",
        "      <td> 351</td>\n",
        "      <td>   1</td>\n",
        "      <td> 348</td>\n",
        "      <td> 0</td>\n",
        "      <td> 705</td>\n",
        "      <td> 119575767</td>\n",
        "    </tr>\n",
        "    <tr>\n",
        "      <th>2</th>\n",
        "      <td> gi|17834109|gb|AAL46636.1|AF394226_1</td>\n",
        "      <td> gi|297677205|ref|XP_002816500.1|</td>\n",
        "      <td>  98.01</td>\n",
        "      <td> 351</td>\n",
        "      <td> 351</td>\n",
        "      <td> 521</td>\n",
        "      <td> 7</td>\n",
        "      <td> 0</td>\n",
        "      <td>  1</td>\n",
        "      <td> 351</td>\n",
        "      <td> 171</td>\n",
        "      <td> 521</td>\n",
        "      <td> 0</td>\n",
        "      <td> 704</td>\n",
        "      <td> 297677205</td>\n",
        "    </tr>\n",
        "    <tr>\n",
        "      <th>3</th>\n",
        "      <td> gi|17834109|gb|AAL46636.1|AF394226_1</td>\n",
        "      <td> gi|332228811|ref|XP_003263585.1|</td>\n",
        "      <td>  98.29</td>\n",
        "      <td> 351</td>\n",
        "      <td> 351</td>\n",
        "      <td> 350</td>\n",
        "      <td> 5</td>\n",
        "      <td> 1</td>\n",
        "      <td>  1</td>\n",
        "      <td> 351</td>\n",
        "      <td>   1</td>\n",
        "      <td> 350</td>\n",
        "      <td> 0</td>\n",
        "      <td> 700</td>\n",
        "      <td> 332228811</td>\n",
        "    </tr>\n",
        "    <tr>\n",
        "      <th>4</th>\n",
        "      <td> gi|17834109|gb|AAL46636.1|AF394226_1</td>\n",
        "      <td> gi|297290110|ref|XP_002808417.1|</td>\n",
        "      <td>  96.99</td>\n",
        "      <td> 332</td>\n",
        "      <td> 351</td>\n",
        "      <td> 337</td>\n",
        "      <td> 9</td>\n",
        "      <td> 1</td>\n",
        "      <td> 20</td>\n",
        "      <td> 351</td>\n",
        "      <td>   7</td>\n",
        "      <td> 337</td>\n",
        "      <td> 0</td>\n",
        "      <td> 658</td>\n",
        "      <td> 297290110</td>\n",
        "    </tr>\n",
        "  </tbody>\n",
        "</table>\n",
        "</div>"
       ],
       "output_type": "pyout",
       "prompt_number": 13,
       "text": [
        "                               query_id                        subject_id  \\\n",
        "0  gi|17834109|gb|AAL46636.1|AF394226_1      gi|19549327|ref|NP_115498.2|   \n",
        "1  gi|17834109|gb|AAL46636.1|AF394226_1       gi|119575767|gb|EAW55363.1|   \n",
        "2  gi|17834109|gb|AAL46636.1|AF394226_1  gi|297677205|ref|XP_002816500.1|   \n",
        "3  gi|17834109|gb|AAL46636.1|AF394226_1  gi|332228811|ref|XP_003263585.1|   \n",
        "4  gi|17834109|gb|AAL46636.1|AF394226_1  gi|297290110|ref|XP_002808417.1|   \n",
        "\n",
        "   identity  alignment_length  query_length  subject_length  mismatches  gap_opens  \\\n",
        "0    100.00               351           351             351           0          0   \n",
        "1     98.86               351           351             348           1          1   \n",
        "2     98.01               351           351             521           7          0   \n",
        "3     98.29               351           351             350           5          1   \n",
        "4     96.99               332           351             337           9          1   \n",
        "\n",
        "   q_start  q_end  s_start  s_end  evalue  bit_score subject_gi  \n",
        "0        1    351        1    351       0        719   19549327  \n",
        "1        1    351        1    348       0        705  119575767  \n",
        "2        1    351      171    521       0        704  297677205  \n",
        "3        1    351        1    350       0        700  332228811  \n",
        "4       20    351        7    337       0        658  297290110  "
       ]
      }
     ],
     "prompt_number": 13
    },
    {
     "cell_type": "code",
     "collapsed": false,
     "input": [
      "gimap"
     ],
     "language": "python",
     "metadata": {},
     "outputs": [
      {
       "html": [
        "<div style=\"max-height:1000px;max-width:1500px;overflow:auto;\">\n",
        "<table border=\"1\" class=\"dataframe\">\n",
        "  <thead>\n",
        "    <tr style=\"text-align: right;\">\n",
        "      <th></th>\n",
        "      <th>query_id</th>\n",
        "      <th>subject_id</th>\n",
        "      <th>identity</th>\n",
        "      <th>alignment_length</th>\n",
        "      <th>query_length</th>\n",
        "      <th>subject_length</th>\n",
        "      <th>mismatches</th>\n",
        "      <th>gap_opens</th>\n",
        "      <th>q_start</th>\n",
        "      <th>q_end</th>\n",
        "      <th>s_start</th>\n",
        "      <th>s_end</th>\n",
        "      <th>evalue</th>\n",
        "      <th>bit_score</th>\n",
        "      <th>subject_gi</th>\n",
        "      <th>gi</th>\n",
        "      <th>taxid</th>\n",
        "    </tr>\n",
        "  </thead>\n",
        "  <tbody>\n",
        "    <tr>\n",
        "      <th>0</th>\n",
        "      <td> gi|17834109|gb|AAL46636.1|AF394226_1</td>\n",
        "      <td> gi|19549327|ref|NP_115498.2|</td>\n",
        "      <td> 100</td>\n",
        "      <td> 351</td>\n",
        "      <td> 351</td>\n",
        "      <td> 351</td>\n",
        "      <td> 0</td>\n",
        "      <td> 0</td>\n",
        "      <td> 1</td>\n",
        "      <td> 351</td>\n",
        "      <td> 1</td>\n",
        "      <td> 351</td>\n",
        "      <td> 0</td>\n",
        "      <td> 719</td>\n",
        "      <td> 6</td>\n",
        "      <td> 6</td>\n",
        "      <td> 9913</td>\n",
        "    </tr>\n",
        "  </tbody>\n",
        "</table>\n",
        "</div>"
       ],
       "output_type": "pyout",
       "prompt_number": 43,
       "text": [
        "                               query_id                    subject_id  identity  \\\n",
        "0  gi|17834109|gb|AAL46636.1|AF394226_1  gi|19549327|ref|NP_115498.2|       100   \n",
        "\n",
        "   alignment_length  query_length  subject_length  mismatches  gap_opens  q_start  \\\n",
        "0               351           351             351           0          0        1   \n",
        "\n",
        "   q_end  s_start  s_end  evalue  bit_score subject_gi  gi  taxid  \n",
        "0    351        1    351       0        719          6   6   9913  "
       ]
      }
     ],
     "prompt_number": 43
    },
    {
     "cell_type": "code",
     "collapsed": false,
     "input": [
      "new = pd.merge(table,gimap,left_on='subject_gi', right_on='gi',how=\"inner\")"
     ],
     "language": "python",
     "metadata": {},
     "outputs": [],
     "prompt_number": 79
    },
    {
     "cell_type": "code",
     "collapsed": false,
     "input": [
      "ids = list(set(new['taxid']))\n",
      "new[:5]\n",
      "#lcas = get_lca_for_list(ids)\n"
     ],
     "language": "python",
     "metadata": {},
     "outputs": [
      {
       "html": [
        "<div style=\"max-height:1000px;max-width:1500px;overflow:auto;\">\n",
        "<table border=\"1\" class=\"dataframe\">\n",
        "  <thead>\n",
        "    <tr style=\"text-align: right;\">\n",
        "      <th></th>\n",
        "      <th>query_id</th>\n",
        "      <th>subject_id</th>\n",
        "      <th>identity</th>\n",
        "      <th>alignment_length</th>\n",
        "      <th>query_length</th>\n",
        "      <th>subject_length</th>\n",
        "      <th>mismatches</th>\n",
        "      <th>gap_opens</th>\n",
        "      <th>q_start</th>\n",
        "      <th>q_end</th>\n",
        "      <th>s_start</th>\n",
        "      <th>s_end</th>\n",
        "      <th>evalue</th>\n",
        "      <th>bit_score</th>\n",
        "      <th>subject_gi</th>\n",
        "      <th>gi</th>\n",
        "      <th>taxid</th>\n",
        "    </tr>\n",
        "  </thead>\n",
        "  <tbody>\n",
        "    <tr>\n",
        "      <th>0</th>\n",
        "      <td> gi|17834109|gb|AAL46636.1|AF394226_1</td>\n",
        "      <td> gi|19549327|ref|NP_115498.2|</td>\n",
        "      <td> 100</td>\n",
        "      <td> 351</td>\n",
        "      <td> 351</td>\n",
        "      <td> 351</td>\n",
        "      <td> 0</td>\n",
        "      <td> 0</td>\n",
        "      <td> 1</td>\n",
        "      <td> 351</td>\n",
        "      <td> 1</td>\n",
        "      <td> 351</td>\n",
        "      <td> 0</td>\n",
        "      <td> 719</td>\n",
        "      <td> 6</td>\n",
        "      <td> 6</td>\n",
        "      <td> 9913</td>\n",
        "    </tr>\n",
        "  </tbody>\n",
        "</table>\n",
        "</div>"
       ],
       "output_type": "pyout",
       "prompt_number": 80,
       "text": [
        "                               query_id                    subject_id  identity  \\\n",
        "0  gi|17834109|gb|AAL46636.1|AF394226_1  gi|19549327|ref|NP_115498.2|       100   \n",
        "\n",
        "   alignment_length  query_length  subject_length  mismatches  gap_opens  q_start  \\\n",
        "0               351           351             351           0          0        1   \n",
        "\n",
        "   q_end  s_start  s_end  evalue  bit_score subject_gi  gi  taxid  \n",
        "0    351        1    351       0        719          6   6   9913  "
       ]
      }
     ],
     "prompt_number": 80
    },
    {
     "cell_type": "code",
     "collapsed": false,
     "input": [
      "new2 = pd.merge(new,lcas,left_on='taxid',right_on='subject_taxid', how='left')\n",
      "\n",
      "new2[['query_id','subject_id','taxid','lca_name','lca_tax_id']][:50]\n",
      "#new[:5]\n"
     ],
     "language": "python",
     "metadata": {},
     "outputs": [
      {
       "ename": "NameError",
       "evalue": "name 'new' is not defined",
       "output_type": "pyerr",
       "traceback": [
        "\u001b[0;31m---------------------------------------------------------------------------\u001b[0m\n\u001b[0;31mNameError\u001b[0m                                 Traceback (most recent call last)",
        "\u001b[0;32m<ipython-input-10-2e6ceac9d646>\u001b[0m in \u001b[0;36m<module>\u001b[0;34m()\u001b[0m\n\u001b[0;32m----> 1\u001b[0;31m \u001b[0mnew2\u001b[0m \u001b[0;34m=\u001b[0m \u001b[0mpd\u001b[0m\u001b[0;34m.\u001b[0m\u001b[0mmerge\u001b[0m\u001b[0;34m(\u001b[0m\u001b[0mnew\u001b[0m\u001b[0;34m,\u001b[0m\u001b[0mlcas\u001b[0m\u001b[0;34m,\u001b[0m\u001b[0mleft_on\u001b[0m\u001b[0;34m=\u001b[0m\u001b[0;34m'taxid'\u001b[0m\u001b[0;34m,\u001b[0m\u001b[0mright_on\u001b[0m\u001b[0;34m=\u001b[0m\u001b[0;34m'subject_taxid'\u001b[0m\u001b[0;34m,\u001b[0m \u001b[0mhow\u001b[0m\u001b[0;34m=\u001b[0m\u001b[0;34m'left'\u001b[0m\u001b[0;34m)\u001b[0m\u001b[0;34m\u001b[0m\u001b[0m\n\u001b[0m\u001b[1;32m      2\u001b[0m \u001b[0;34m\u001b[0m\u001b[0m\n\u001b[1;32m      3\u001b[0m \u001b[0mnew2\u001b[0m\u001b[0;34m[\u001b[0m\u001b[0;34m[\u001b[0m\u001b[0;34m'query_id'\u001b[0m\u001b[0;34m,\u001b[0m\u001b[0;34m'subject_id'\u001b[0m\u001b[0;34m,\u001b[0m\u001b[0;34m'taxid'\u001b[0m\u001b[0;34m,\u001b[0m\u001b[0;34m'lca_name'\u001b[0m\u001b[0;34m,\u001b[0m\u001b[0;34m'lca_tax_id'\u001b[0m\u001b[0;34m]\u001b[0m\u001b[0;34m]\u001b[0m\u001b[0;34m[\u001b[0m\u001b[0;34m:\u001b[0m\u001b[0;36m50\u001b[0m\u001b[0;34m]\u001b[0m\u001b[0;34m\u001b[0m\u001b[0m\n\u001b[1;32m      4\u001b[0m \u001b[0;31m#new[:5]\u001b[0m\u001b[0;34m\u001b[0m\u001b[0;34m\u001b[0m\u001b[0m\n",
        "\u001b[0;31mNameError\u001b[0m: name 'new' is not defined"
       ]
      }
     ],
     "prompt_number": 10
    },
    {
     "cell_type": "code",
     "collapsed": false,
     "input": [
      "?pd.read_table"
     ],
     "language": "python",
     "metadata": {},
     "outputs": [],
     "prompt_number": 11
    }
   ],
   "metadata": {}
  }
 ]
}