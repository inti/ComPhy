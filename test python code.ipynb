{
 "metadata": {
  "name": "test python code"
 },
 "nbformat": 3,
 "nbformat_minor": 0,
 "worksheets": [
  {
   "cells": [
    {
     "cell_type": "code",
     "collapsed": false,
     "input": [
      "class FileWrapper(file):\n",
      "    def __init__(self, comment_literal, *args):\n",
      "        super(FileWrapper, self).__init__(*args)\n",
      "        self._comment_literal = comment_literal\n",
      "\n",
      "    def next(self):\n",
      "        while True:\n",
      "            line = super(FileWrapper, self).next()\n",
      "            if not line.startswith(self._comment_literal):\n",
      "                return line\n",
      "            \n",
      "\n",
      "import pandas as pd"
     ],
     "language": "python",
     "metadata": {},
     "outputs": [],
     "prompt_number": 93
    },
    {
     "cell_type": "code",
     "collapsed": false,
     "input": [
      "## Read blast output results\n",
      "# Define the columns names\n",
      "colnames = ['query_id', 'subject_id', 'identity', 'alignment_length', 'query_length', 'subject_length', 'mismatches', 'gap_opens', 'q_start', 'q_end', 's_start', 's_end', 'evalue', 'bit_score']\n",
      "# read blast output skipping commented lines\n",
      "table = pd.read_table(FileWrapper(\"#\", \"example/dysbindin.blast_out.txt\", \"r\"), delimiter=\"\\t\", header=None, names = colnames)\n",
      "print table['query_id']"
     ],
     "language": "python",
     "metadata": {},
     "outputs": [
      {
       "output_type": "stream",
       "stream": "stdout",
       "text": [
        "0     gi|17834109|gb|AAL46636.1|AF394226_1\n",
        "1     gi|17834109|gb|AAL46636.1|AF394226_1\n",
        "2     gi|17834109|gb|AAL46636.1|AF394226_1\n",
        "3     gi|17834109|gb|AAL46636.1|AF394226_1\n",
        "4     gi|17834109|gb|AAL46636.1|AF394226_1\n",
        "5     gi|17834109|gb|AAL46636.1|AF394226_1\n",
        "6     gi|17834109|gb|AAL46636.1|AF394226_1\n",
        "7     gi|17834109|gb|AAL46636.1|AF394226_1\n",
        "8     gi|17834109|gb|AAL46636.1|AF394226_1\n",
        "9     gi|17834109|gb|AAL46636.1|AF394226_1\n",
        "10    gi|17834109|gb|AAL46636.1|AF394226_1\n",
        "11    gi|17834109|gb|AAL46636.1|AF394226_1\n",
        "12    gi|17834109|gb|AAL46636.1|AF394226_1\n",
        "13    gi|17834109|gb|AAL46636.1|AF394226_1\n",
        "14    gi|17834109|gb|AAL46636.1|AF394226_1\n",
        "...\n",
        "355    gi|308199484|ref|NP_001184068.1|\n",
        "356    gi|308199484|ref|NP_001184068.1|\n",
        "357    gi|308199484|ref|NP_001184068.1|\n",
        "358    gi|308199484|ref|NP_001184068.1|\n",
        "359    gi|308199484|ref|NP_001184068.1|\n",
        "360    gi|308199484|ref|NP_001184068.1|\n",
        "361    gi|308199484|ref|NP_001184068.1|\n",
        "362    gi|308199484|ref|NP_001184068.1|\n",
        "363    gi|308199484|ref|NP_001184068.1|\n",
        "364    gi|308199484|ref|NP_001184068.1|\n",
        "365    gi|308199484|ref|NP_001184068.1|\n",
        "366    gi|308199484|ref|NP_001184068.1|\n",
        "367    gi|308199484|ref|NP_001184068.1|\n",
        "368    gi|308199484|ref|NP_001184068.1|\n",
        "369    gi|308199484|ref|NP_001184068.1|\n",
        "Name: query_id, Length: 370\n"
       ]
      }
     ],
     "prompt_number": 94
    },
    {
     "cell_type": "code",
     "collapsed": false,
     "input": [
      "# Read sequences used for the analyses\n",
      "from Bio import SeqIO\n",
      "sequence_length = {}\n",
      "handle = open(\"example/dysbindin.fa\", \"rU\")\n",
      "for record in SeqIO.parse(handle, \"fasta\") :\n",
      "    sequence_length[record.id] = len(record.seq) \n",
      "handle.close()\n",
      "print sequence_length"
     ],
     "language": "python",
     "metadata": {},
     "outputs": [
      {
       "output_type": "stream",
       "stream": "stdout",
       "text": [
        "{'gi|17834109|gb|AAL46636.1|AF394226_1': 351}\n"
       ]
      }
     ],
     "prompt_number": 95
    },
    {
     "cell_type": "code",
     "collapsed": false,
     "input": [
      "# check that sequences on the blast output are on the fasta file\n",
      "seq_len_names = collections.Counter(sequence_length.keys())\n",
      "# reduce the blast output only to the sequences present on the fasta file\n",
      "table = table[table['query_id'].isin(seq_len_names) ]"
     ],
     "language": "python",
     "metadata": {},
     "outputs": [
      {
       "output_type": "stream",
       "stream": "stdout",
       "text": [
        "['gi|308199484|ref|NP_001184068.1|']\n"
       ]
      }
     ],
     "prompt_number": 101
    },
    {
     "cell_type": "code",
     "collapsed": false,
     "input": [
      "from BioSQL import BioSeqDatabase\n",
      "server = BioSeqDatabase.open_database(driver=\"MySQLdb\", user=\"root\",\n",
      "                     passwd = \"\", host = \"localhost\", db=\"bioseqdb\")\n",
      "db = server[\"orchids\"]\n",
      "for identifier in ['6273291', '6273290', '6273289'] :\n",
      "    seq_record = db.lookup(gi=identifier)\n",
      "    print seq_record.id, seq_record.description[:50] + \"...\"\n",
      "    print \"Sequence length %i,\" % len(seq_record.seq)\n"
     ],
     "language": "python",
     "metadata": {},
     "outputs": [
      {
       "output_type": "stream",
       "stream": "stdout",
       "text": [
        "AF191665.1 Opuntia marenae rpl16 gene; chloroplast gene for c...\n",
        "Sequence length 902,\n",
        "AF191664.1 Opuntia clavata rpl16 gene; chloroplast gene for c...\n",
        "Sequence length 899,\n",
        "AF191663.1 Opuntia bradtiana rpl16 gene; chloroplast gene for...\n",
        "Sequence length 899,\n"
       ]
      }
     ],
     "prompt_number": 113
    }
   ],
   "metadata": {}
  }
 ]
}