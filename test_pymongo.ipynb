{
 "metadata": {
  "name": "test_pymongo"
 },
 "nbformat": 3,
 "nbformat_minor": 0,
 "worksheets": [
  {
   "cells": [
    {
     "cell_type": "code",
     "collapsed": false,
     "input": [],
     "language": "python",
     "metadata": {},
     "outputs": [],
     "prompt_number": 2
    },
    {
     "cell_type": "code",
     "collapsed": false,
     "input": [
      "import pymongo\n",
      "from pymongo import MongoClient\n",
      "connection = MongoClient()"
     ],
     "language": "python",
     "metadata": {},
     "outputs": [],
     "prompt_number": 3
    },
    {
     "cell_type": "code",
     "collapsed": false,
     "input": [
      "connection = MongoClient('localhost', 27017)"
     ],
     "language": "python",
     "metadata": {},
     "outputs": [],
     "prompt_number": 4
    },
    {
     "cell_type": "code",
     "collapsed": false,
     "input": [
      "db = connection.test_database\n",
      "collection = db.test_collection"
     ],
     "language": "python",
     "metadata": {},
     "outputs": [],
     "prompt_number": 5
    },
    {
     "cell_type": "code",
     "collapsed": false,
     "input": [
      "import datetime\n",
      ">>> post = {\"author\": \"Mike\",\n",
      "...         \"text\": \"My first blog post!\",\n",
      "...         \"tags\": [\"mongodb\", \"python\", \"pymongo\"],\n",
      "...         \"date\": datetime.datetime.utcnow()}"
     ],
     "language": "python",
     "metadata": {},
     "outputs": [],
     "prompt_number": 6
    },
    {
     "cell_type": "code",
     "collapsed": false,
     "input": [
      "posts = db.posts\n",
      "post_id = posts.insert(post)\n",
      "post_id\n"
     ],
     "language": "python",
     "metadata": {},
     "outputs": [
      {
       "ename": "DuplicateKeyError",
       "evalue": "E11000 duplicate key error index: test_database.posts.$_id_  dup key: { : ObjectId('5101a4b6cb21b91b8efd132f') }",
       "output_type": "pyerr",
       "traceback": [
        "\u001b[0;31m---------------------------------------------------------------------------\u001b[0m\n\u001b[0;31mDuplicateKeyError\u001b[0m                         Traceback (most recent call last)",
        "\u001b[0;32m<ipython-input-11-1036c6c2f17d>\u001b[0m in \u001b[0;36m<module>\u001b[0;34m()\u001b[0m\n\u001b[1;32m      1\u001b[0m \u001b[0mposts\u001b[0m \u001b[0;34m=\u001b[0m \u001b[0mdb\u001b[0m\u001b[0;34m.\u001b[0m\u001b[0mposts\u001b[0m\u001b[0;34m\u001b[0m\u001b[0m\n\u001b[0;32m----> 2\u001b[0;31m \u001b[0mpost_id\u001b[0m \u001b[0;34m=\u001b[0m \u001b[0mposts\u001b[0m\u001b[0;34m.\u001b[0m\u001b[0minsert\u001b[0m\u001b[0;34m(\u001b[0m\u001b[0mpost\u001b[0m\u001b[0;34m)\u001b[0m\u001b[0;34m\u001b[0m\u001b[0m\n\u001b[0m\u001b[1;32m      3\u001b[0m \u001b[0mpost_id\u001b[0m\u001b[0;34m\u001b[0m\u001b[0m\n",
        "\u001b[0;32m/Users/inti/.local/lib/python2.7/site-packages/pymongo/collection.pyc\u001b[0m in \u001b[0;36minsert\u001b[0;34m(self, doc_or_docs, manipulate, safe, check_keys, continue_on_error, **kwargs)\u001b[0m\n\u001b[1;32m    357\u001b[0m             message.insert(self.__full_name, docs,\n\u001b[1;32m    358\u001b[0m                            \u001b[0mcheck_keys\u001b[0m\u001b[0;34m,\u001b[0m \u001b[0msafe\u001b[0m\u001b[0;34m,\u001b[0m \u001b[0moptions\u001b[0m\u001b[0;34m,\u001b[0m\u001b[0;34m\u001b[0m\u001b[0m\n\u001b[0;32m--> 359\u001b[0;31m                            continue_on_error, self.__uuid_subtype), safe)\n\u001b[0m\u001b[1;32m    360\u001b[0m \u001b[0;34m\u001b[0m\u001b[0m\n\u001b[1;32m    361\u001b[0m         \u001b[0mids\u001b[0m \u001b[0;34m=\u001b[0m \u001b[0;34m[\u001b[0m\u001b[0mdoc\u001b[0m\u001b[0;34m.\u001b[0m\u001b[0mget\u001b[0m\u001b[0;34m(\u001b[0m\u001b[0;34m\"_id\"\u001b[0m\u001b[0;34m,\u001b[0m \u001b[0mNone\u001b[0m\u001b[0;34m)\u001b[0m \u001b[0;32mfor\u001b[0m \u001b[0mdoc\u001b[0m \u001b[0;32min\u001b[0m \u001b[0mdocs\u001b[0m\u001b[0;34m]\u001b[0m\u001b[0;34m\u001b[0m\u001b[0m\n",
        "\u001b[0;32m/Users/inti/.local/lib/python2.7/site-packages/pymongo/mongo_client.pyc\u001b[0m in \u001b[0;36m_send_message\u001b[0;34m(self, message, with_last_error, check_primary)\u001b[0m\n\u001b[1;32m    842\u001b[0m                 response = self.__receive_message_on_socket(1, request_id,\n\u001b[1;32m    843\u001b[0m                                                             sock_info)\n\u001b[0;32m--> 844\u001b[0;31m                 \u001b[0mrv\u001b[0m \u001b[0;34m=\u001b[0m \u001b[0mself\u001b[0m\u001b[0;34m.\u001b[0m\u001b[0m__check_response_to_last_error\u001b[0m\u001b[0;34m(\u001b[0m\u001b[0mresponse\u001b[0m\u001b[0;34m)\u001b[0m\u001b[0;34m\u001b[0m\u001b[0m\n\u001b[0m\u001b[1;32m    845\u001b[0m \u001b[0;34m\u001b[0m\u001b[0m\n\u001b[1;32m    846\u001b[0m             \u001b[0mself\u001b[0m\u001b[0;34m.\u001b[0m\u001b[0m__pool\u001b[0m\u001b[0;34m.\u001b[0m\u001b[0mmaybe_return_socket\u001b[0m\u001b[0;34m(\u001b[0m\u001b[0msock_info\u001b[0m\u001b[0;34m)\u001b[0m\u001b[0;34m\u001b[0m\u001b[0m\n",
        "\u001b[0;32m/Users/inti/.local/lib/python2.7/site-packages/pymongo/mongo_client.pyc\u001b[0m in \u001b[0;36m__check_response_to_last_error\u001b[0;34m(self, response)\u001b[0m\n\u001b[1;32m    783\u001b[0m         \u001b[0;32mif\u001b[0m \u001b[0;34m\"code\"\u001b[0m \u001b[0;32min\u001b[0m \u001b[0mdetails\u001b[0m\u001b[0;34m:\u001b[0m\u001b[0;34m\u001b[0m\u001b[0m\n\u001b[1;32m    784\u001b[0m             \u001b[0;32mif\u001b[0m \u001b[0mdetails\u001b[0m\u001b[0;34m[\u001b[0m\u001b[0;34m\"code\"\u001b[0m\u001b[0;34m]\u001b[0m \u001b[0;32min\u001b[0m \u001b[0;34m[\u001b[0m\u001b[0;36m11000\u001b[0m\u001b[0;34m,\u001b[0m \u001b[0;36m11001\u001b[0m\u001b[0;34m,\u001b[0m \u001b[0;36m12582\u001b[0m\u001b[0;34m]\u001b[0m\u001b[0;34m:\u001b[0m\u001b[0;34m\u001b[0m\u001b[0m\n\u001b[0;32m--> 785\u001b[0;31m                 \u001b[0;32mraise\u001b[0m \u001b[0mDuplicateKeyError\u001b[0m\u001b[0;34m(\u001b[0m\u001b[0mdetails\u001b[0m\u001b[0;34m[\u001b[0m\u001b[0;34m\"err\"\u001b[0m\u001b[0;34m]\u001b[0m\u001b[0;34m)\u001b[0m\u001b[0;34m\u001b[0m\u001b[0m\n\u001b[0m\u001b[1;32m    786\u001b[0m             \u001b[0;32melse\u001b[0m\u001b[0;34m:\u001b[0m\u001b[0;34m\u001b[0m\u001b[0m\n\u001b[1;32m    787\u001b[0m                 \u001b[0;32mraise\u001b[0m \u001b[0mOperationFailure\u001b[0m\u001b[0;34m(\u001b[0m\u001b[0mdetails\u001b[0m\u001b[0;34m[\u001b[0m\u001b[0;34m\"err\"\u001b[0m\u001b[0;34m]\u001b[0m\u001b[0;34m,\u001b[0m \u001b[0mdetails\u001b[0m\u001b[0;34m[\u001b[0m\u001b[0;34m\"code\"\u001b[0m\u001b[0;34m]\u001b[0m\u001b[0;34m)\u001b[0m\u001b[0;34m\u001b[0m\u001b[0m\n",
        "\u001b[0;31mDuplicateKeyError\u001b[0m: E11000 duplicate key error index: test_database.posts.$_id_  dup key: { : ObjectId('5101a4b6cb21b91b8efd132f') }"
       ]
      }
     ],
     "prompt_number": 11
    },
    {
     "cell_type": "code",
     "collapsed": false,
     "input": [
      "db.collection_names()"
     ],
     "language": "python",
     "metadata": {},
     "outputs": [
      {
       "output_type": "pyout",
       "prompt_number": 14,
       "text": [
        "[u'system.indexes', u'posts']"
       ]
      }
     ],
     "prompt_number": 14
    },
    {
     "cell_type": "code",
     "collapsed": false,
     "input": [
      "posts.find_one({\"author\": \"Mike\"})"
     ],
     "language": "python",
     "metadata": {},
     "outputs": [
      {
       "output_type": "pyout",
       "prompt_number": 18,
       "text": [
        "{u'_id': ObjectId('5101a4b6cb21b91b8efd132f'),\n",
        " u'author': u'Mike',\n",
        " u'date': datetime.datetime(2013, 1, 24, 21, 15, 27, 623000),\n",
        " u'tags': [u'mongodb', u'python', u'pymongo'],\n",
        " u'text': u'My first blog post!'}"
       ]
      }
     ],
     "prompt_number": 18
    },
    {
     "cell_type": "code",
     "collapsed": false,
     "input": [
      "new_posts = [{\"author\": \"Mike\",\n",
      "...               \"text\": \"Another post!\",\n",
      "...               \"tags\": [\"bulk\", \"insert\"],\n",
      "...               \"date\": datetime.datetime(2009, 11, 12, 11, 14)},\n",
      "...              {\"author\": \"Eliot\",\n",
      "...               \"title\": \"MongoDB is fun\",\n",
      "...               \"text\": \"and pretty easy too!\",\n",
      "...               \"date\": datetime.datetime(2009, 11, 10, 10, 45)}]"
     ],
     "language": "python",
     "metadata": {},
     "outputs": [],
     "prompt_number": 42
    },
    {
     "cell_type": "code",
     "collapsed": false,
     "input": [
      "posts.insert(new_posts)"
     ],
     "language": "python",
     "metadata": {},
     "outputs": [
      {
       "output_type": "pyout",
       "prompt_number": 44,
       "text": [
        "[ObjectId('5101adcdcb21b91b8efd1330'), ObjectId('5101adcdcb21b91b8efd1331')]"
       ]
      }
     ],
     "prompt_number": 44
    },
    {
     "cell_type": "code",
     "collapsed": false,
     "input": [
      "d = datetime.datetime(2009, 11, 12, 12)\n",
      "for post in posts.find({\"date\": {\"$lt\": d}}).sort(\"author\"):\n",
      "    print post"
     ],
     "language": "python",
     "metadata": {},
     "outputs": [
      {
       "output_type": "stream",
       "stream": "stdout",
       "text": [
        "{u'date': datetime.datetime(2009, 11, 10, 10, 45), u'text': u'and pretty easy too!', u'_id': ObjectId('5101adcdcb21b91b8efd1331'), u'author': u'Eliot', u'title': u'MongoDB is fun'}\n",
        "{u'date': datetime.datetime(2009, 11, 12, 11, 14), u'text': u'Another post!', u'_id': ObjectId('5101adcdcb21b91b8efd1330'), u'author': u'Mike', u'tags': [u'bulk', u'insert']}\n"
       ]
      }
     ],
     "prompt_number": 48
    },
    {
     "cell_type": "code",
     "collapsed": false,
     "input": [
      "import pymongo\n",
      "from pymongo import MongoClient\n",
      "connection = MongoClient()\n",
      "connection = MongoClient('localhost', 27017)\n",
      "# create a db to store the species lineage\n",
      "db1 = connection.species_lineage\n",
      "collection1 = db1.species_lineage\n",
      "posts1 = db1.posts\n",
      "# create a db to store the sequence info\n",
      "db2 = connection.seq_info\n",
      "collection2 = db2.seq_info\n",
      "posts2 = db2.posts"
     ],
     "language": "python",
     "metadata": {},
     "outputs": [],
     "prompt_number": 42
    },
    {
     "cell_type": "code",
     "collapsed": false,
     "input": [
      "import pandas as pd\n",
      "from cogent.parse.ncbi_taxonomy import NcbiTaxonomyFromFiles"
     ],
     "language": "python",
     "metadata": {},
     "outputs": [],
     "prompt_number": 3
    },
    {
     "cell_type": "code",
     "collapsed": false,
     "input": [
      "tree = NcbiTaxonomyFromFiles(open('/Users/inti/Installed_Apps/biosql/scripts/taxdata/nodes.dmp'), open('/Users/inti/Installed_Apps/biosql/scripts/taxdata/names.dmp'))"
     ],
     "language": "python",
     "metadata": {},
     "outputs": [],
     "prompt_number": 47
    },
    {
     "cell_type": "code",
     "collapsed": false,
     "input": [
      "tp = pd.read_table('head.txt.gz', chunksize=10000,compression=\"gzip\",header=None,sep=\"\\t\",names=['gi','taxid'])\n",
      "\n",
      "lot = []\n",
      "for chunk in tp:\n",
      "    #pieces= [{\"gi\":long(row['gi'][0]),\"taxid\": long(row['taxid'][0]) } for x in chunk]\n",
      "    #posts2.insert(pieces)\n",
      "    pieces = chunk.apply(lambda x: lot.append({\"gi\":long(x[0]),\"taxid\": long(x[0]) }),axis=1)"
     ],
     "language": "python",
     "metadata": {},
     "outputs": [],
     "prompt_number": 53
    },
    {
     "cell_type": "code",
     "collapsed": false,
     "input": [
      "posts2"
     ],
     "language": "python",
     "metadata": {},
     "outputs": [
      {
       "output_type": "pyout",
       "prompt_number": 58,
       "text": [
        "Collection(Database(MongoClient('localhost', 27017), u'seq_info'), u'posts')"
       ]
      }
     ],
     "prompt_number": 58
    },
    {
     "cell_type": "code",
     "collapsed": false,
     "input": [
      "for p in posts2.find({\"taxid\": 9913}):\n",
      "    print p"
     ],
     "language": "python",
     "metadata": {},
     "outputs": [
      {
       "output_type": "stream",
       "stream": "stdout",
       "text": [
        "{u'_id': ObjectId('5101b942cb21b91b8efd134b'), u'taxid': 9913L, u'gi': 6L}\n",
        "{u'_id': ObjectId('5101b942cb21b91b8efd134c'), u'taxid': 9913L, u'gi': 6L}\n",
        "{u'_id': ObjectId('5101b942cb21b91b8efd134d'), u'taxid': 9913L, u'gi': 6L}\n",
        "{u'_id': ObjectId('5101b942cb21b91b8efd134e'), u'taxid': 9913L, u'gi': 6L}\n",
        "{u'_id': ObjectId('5101b942cb21b91b8efd134f'), u'taxid': 9913L, u'gi': 6L}\n"
       ]
      }
     ],
     "prompt_number": 57
    }
   ],
   "metadata": {}
  }
 ]
}